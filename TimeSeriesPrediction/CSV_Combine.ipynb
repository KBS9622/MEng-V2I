{
 "cells": [
  {
   "cell_type": "code",
   "execution_count": null,
   "metadata": {},
   "outputs": [],
   "source": [
    "import os\n",
    "import pandas as pd"
   ]
  },
  {
   "cell_type": "code",
   "execution_count": null,
   "metadata": {},
   "outputs": [],
   "source": [
    "sep_path = './Sep-17/'\n",
    "oct_path = './Oct-17/'\n",
    "nov_path = './Nov-17/'\n",
    "dec_path = './Dec-17/'"
   ]
  },
  {
   "cell_type": "code",
   "execution_count": null,
   "metadata": {},
   "outputs": [],
   "source": [
    "sep_items = [x for x in os.listdir(sep_path)]\n",
    "oct_items = [x for x in os.listdir(oct_path)]\n",
    "nov_items = [x for x in os.listdir(nov_path)]\n",
    "dec_items = [x for x in os.listdir(dec_path)]"
   ]
  },
  {
   "cell_type": "code",
   "execution_count": null,
   "metadata": {},
   "outputs": [],
   "source": [
    "combined_path = './combined/'\n",
    "if not os.path.exists(combined_path):\n",
    "    os.makedirs(combined_path)"
   ]
  },
  {
   "cell_type": "code",
   "execution_count": null,
   "metadata": {
    "pycharm": {
     "name": "#%%\n"
    }
   },
   "outputs": [],
   "source": [
    "def concat(name, path=combined_path):\n",
    "    \n",
    "    files = list()\n",
    "    file_name = name\n",
    "    \n",
    "    for item in sep_items:\n",
    "        if item.startswith(name):\n",
    "            item = os.path.join(sep_path, item)\n",
    "            sep_item = pd.read_csv(item, index_col=None, header=0)\n",
    "            files.append(sep_item)\n",
    "            file_name += '_sep'\n",
    "            \n",
    "    for item in oct_items:\n",
    "        if item.startswith(name):\n",
    "            item = os.path.join(oct_path, item)\n",
    "            oct_item = pd.read_csv(item, index_col=None, header=0)\n",
    "            files.append(oct_item)\n",
    "            file_name += '_oct'\n",
    "            \n",
    "    for item in nov_items:\n",
    "        if item.startswith(name):\n",
    "            item = os.path.join(nov_path, item)\n",
    "            nov_item = pd.read_csv(item, index_col=None, header=0)\n",
    "            files.append(nov_item)\n",
    "            file_name += '_nov'\n",
    "            \n",
    "    for item in dec_items:\n",
    "        if item.startswith(name):\n",
    "            item = os.path.join(dec_path, item)\n",
    "            dec_item = pd.read_csv(item, index_col=None, header=0)\n",
    "            files.append(dec_item)\n",
    "            file_name += '_dec'\n",
    "    \n",
    "    concatenated = pd.concat(files, axis=0, ignore_index=True)\n",
    "    \n",
    "    concatenated.to_csv(os.path.join(path, '{}.csv'.format(file_name)))"
   ]
  },
  {
   "cell_type": "code",
   "execution_count": null,
   "outputs": [],
   "source": [
    "file_lists = ['18', '28', '30', '32', '26', '26', '34', '33', '4', '31', \n",
    "              '29', '12', '13', '27', '19', '23', '24', '21', '22', '10', \n",
    "              '3', '25', '20', '17', '9', '16', '0', '5', '7']\n",
    "\n",
    "for file in file_lists:\n",
    "    concat(file)"
   ],
   "metadata": {
    "collapsed": false,
    "pycharm": {
     "name": "#%%\n"
    }
   }
  }
 ],
 "metadata": {
  "kernelspec": {
   "display_name": "Python 3",
   "language": "python",
   "name": "python3"
  },
  "language_info": {
   "codemirror_mode": {
    "name": "ipython",
    "version": 3
   },
   "file_extension": ".py",
   "mimetype": "text/x-python",
   "name": "python",
   "nbconvert_exporter": "python",
   "pygments_lexer": "ipython3",
   "version": "3.7.6"
  }
 },
 "nbformat": 4,
 "nbformat_minor": 4
}